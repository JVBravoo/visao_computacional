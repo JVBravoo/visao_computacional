{
 "cells": [
  {
   "cell_type": "markdown",
   "source": [
    "# Zoom"
   ],
   "metadata": {}
  },
  {
   "cell_type": "markdown",
   "source": [
    "### Zoom_in_(1).png"
   ],
   "metadata": {}
  },
  {
   "cell_type": "code",
   "execution_count": 8,
   "source": [
    "import numpy as np\n",
    "from PIL import Image\n",
    "\n",
    "# Resizing the zoom_in 1\n",
    "zoom_1 = Image.open(\"zoom/Zoom_in_(1).jpg\")\n",
    "\n",
    "# Com apenas um parenteses no método resize, deu o seguinte erro:\n",
    "#  Unknown resampling filter (480). Use Image.NEAREST (0), Image.LANCZOS (1), Image.BILINEAR (2), \n",
    "# Image.BICUBIC (3), Image.BOX (4) or Image.HAMMING (5)\n",
    "new_zoom_1 = zoom_1.resize((360, 480))\n",
    "new_zoom_1.save(\"zoom/result/New_Zoom_in_(1).jpg\")\n",
    "\n",
    "# Zoom da nova imagem\n",
    "\n",
    "\n",
    "# Retorna o formato da imagem, tamanho e Pixel type (L = Luminance, RBG = true color, CMYK = pre-press images)\n",
    "print(zoom_1.format, zoom_1.size, zoom_1.mode)\n",
    "print(new_zoom_1.format, new_zoom_1.size, new_zoom_1.mode)\n"
   ],
   "outputs": [
    {
     "output_type": "stream",
     "name": "stdout",
     "text": [
      "JPEG (100, 150) L\n",
      "None (360, 480) L\n"
     ]
    }
   ],
   "metadata": {}
  },
  {
   "cell_type": "markdown",
   "source": [
    "### Zoom_in_(2).png"
   ],
   "metadata": {}
  },
  {
   "cell_type": "code",
   "execution_count": 9,
   "source": [
    "# Resizing the zoom_in 2\n",
    "zoom_2 = Image.open(\"zoom/Zoom_in_(2).jpg\")\n",
    "new_zoom_2 = zoom_2.resize((2592, 1456))\n",
    "new_zoom_2.save(\"zoom/result/New_Zoom_in_(2).jpg\")\n",
    "\n",
    "print(zoom_2.format, zoom_2.size, zoom_2.mode)\n",
    "print(new_zoom_2.format, new_zoom_2.size, new_zoom_2.mode)"
   ],
   "outputs": [
    {
     "output_type": "stream",
     "name": "stdout",
     "text": [
      "JPEG (890, 500) L\n",
      "None (2592, 1456) L\n"
     ]
    }
   ],
   "metadata": {}
  },
  {
   "cell_type": "markdown",
   "source": [
    "### Zoom_in_(3).png"
   ],
   "metadata": {}
  },
  {
   "cell_type": "code",
   "execution_count": null,
   "source": [
    "# Put here the code that will resize the zoom_in 3"
   ],
   "outputs": [],
   "metadata": {}
  },
  {
   "cell_type": "markdown",
   "source": [
    "### Zoom_out_(1)"
   ],
   "metadata": {}
  },
  {
   "cell_type": "code",
   "execution_count": 10,
   "source": [
    "# Resizing the zoom_out 1\n",
    "zoom_out_1 = Image.open(\"zoom/Zoom_out_(1).jpg\")\n",
    "new_zoom_out_1 = zoom_out_1.resize((271, 120))\n",
    "new_zoom_out_1.save(\"zoom/result/New_Zoom_out_(1).jpg\")\n",
    "\n",
    "print(zoom_out_1.format, zoom_out_1.size, zoom_out_1.mode)\n",
    "print(new_zoom_out_1.format, new_zoom_out_1.size, new_zoom_out_1.mode)"
   ],
   "outputs": [
    {
     "output_type": "stream",
     "name": "stdout",
     "text": [
      "JPEG (750, 500) L\n",
      "None (271, 120) L\n"
     ]
    }
   ],
   "metadata": {}
  },
  {
   "cell_type": "markdown",
   "source": [
    "### Zoom_out_(2)"
   ],
   "metadata": {}
  },
  {
   "cell_type": "code",
   "execution_count": 12,
   "source": [
    "# Resizing the zoom_out 2\n",
    "zoom_out_2 = Image.open(\"zoom/Zoom_out_(2).jpg\")\n",
    "new_zoom_out_2 = zoom_out_2.resize((317, 500))\n",
    "new_zoom_out_2.save(\"zoom/result/New_Zoom_out_(2).jpg\")\n",
    "\n",
    "print(zoom_out_2.format, zoom_out_2.size, zoom_out_2.mode)\n",
    "print(new_zoom_out_2.format, new_zoom_out_2.size, new_zoom_out_2.mode)"
   ],
   "outputs": [
    {
     "output_type": "stream",
     "name": "stdout",
     "text": [
      "JPEG (990, 1600) L\n",
      "None (317, 500) L\n"
     ]
    }
   ],
   "metadata": {}
  },
  {
   "cell_type": "markdown",
   "source": [
    "### Zoom_out_(3)"
   ],
   "metadata": {}
  },
  {
   "cell_type": "code",
   "execution_count": null,
   "source": [
    "# Put here the code that will resize the zoom_out 3"
   ],
   "outputs": [],
   "metadata": {}
  },
  {
   "cell_type": "markdown",
   "source": [
    "# Realce"
   ],
   "metadata": {}
  },
  {
   "cell_type": "markdown",
   "source": [
    "### Clarear_(1)"
   ],
   "metadata": {}
  },
  {
   "cell_type": "code",
   "execution_count": 15,
   "source": [
    "from PIL import ImageEnhance\n",
    "\n",
    "realce_1 = Image.open(\"realce/Clarear_(1).jpg\")\n",
    "clarear_1 = ImageEnhance.Brightness(realce_1)\n",
    "\n",
    "# Faz com que a imagem seja clareada\n",
    "# Antes tentei 1.5 e ainda estava escura\n",
    "new_clarear_1 = clarear_1.enhance(5.0)\n",
    "\n",
    "new_clarear_1.save(\"realce/result/New_Clarear_(1).jpg\")"
   ],
   "outputs": [],
   "metadata": {}
  },
  {
   "cell_type": "markdown",
   "source": [
    "### Clarear_(2)"
   ],
   "metadata": {}
  },
  {
   "cell_type": "code",
   "execution_count": 20,
   "source": [
    "realce_2 = Image.open(\"realce/Clarear_(2).jpg\")\n",
    "clarear_2 = ImageEnhance.Brightness(realce_2)\n",
    "\n",
    "# Faz com que a imagem seja clareada\n",
    "new_clarear_2 = clarear_2.enhance(5.0)\n",
    "\n",
    "new_clarear_2.save(\"realce/result/New_Clarear_(2).jpg\")"
   ],
   "outputs": [],
   "metadata": {}
  },
  {
   "cell_type": "markdown",
   "source": [
    "### Clarear_(3)"
   ],
   "metadata": {}
  },
  {
   "cell_type": "code",
   "execution_count": 32,
   "source": [
    "# Put here the code that will make the image 3 (clarear_(3)) brighter"
   ],
   "outputs": [],
   "metadata": {}
  },
  {
   "cell_type": "markdown",
   "source": [
    "### Escurecer_(1)"
   ],
   "metadata": {}
  },
  {
   "cell_type": "code",
   "execution_count": 30,
   "source": [
    "realce_4 = Image.open(\"realce/Escurecer_(1).jpg\")\n",
    "escurecer_1 = ImageEnhance.Brightness(realce_4)\n",
    "\n",
    "new_escurecer_1 = escurecer_1.enhance(0.5)\n",
    "\n",
    "new_escurecer_1.save(\"realce/result/New_Escurecer_(1).jpg\")"
   ],
   "outputs": [],
   "metadata": {}
  },
  {
   "cell_type": "markdown",
   "source": [
    "### Escurecer_(2)"
   ],
   "metadata": {}
  },
  {
   "cell_type": "code",
   "execution_count": 31,
   "source": [
    "realce_5 = Image.open(\"realce/Escurecer_(2).jpg\")\n",
    "escurecer_2 = ImageEnhance.Brightness(realce_5)\n",
    "\n",
    "new_escurecer_2 = escurecer_2.enhance(0.5)\n",
    "\n",
    "new_escurecer_2.save(\"realce/result/New_Escurecer_(2).jpg\")"
   ],
   "outputs": [],
   "metadata": {}
  },
  {
   "cell_type": "markdown",
   "source": [
    "### Escurecer_(3)"
   ],
   "metadata": {}
  },
  {
   "cell_type": "code",
   "execution_count": 33,
   "source": [
    "# Put here the code that will make the image 3 (Escurecer_(3)) darker"
   ],
   "outputs": [],
   "metadata": {}
  }
 ],
 "metadata": {
  "orig_nbformat": 4,
  "language_info": {
   "name": "python",
   "version": "3.9.6",
   "mimetype": "text/x-python",
   "codemirror_mode": {
    "name": "ipython",
    "version": 3
   },
   "pygments_lexer": "ipython3",
   "nbconvert_exporter": "python",
   "file_extension": ".py"
  },
  "kernelspec": {
   "name": "python3",
   "display_name": "Python 3.9.6 64-bit"
  },
  "interpreter": {
   "hash": "aee8b7b246df8f9039afb4144a1f6fd8d2ca17a180786b69acc140d282b71a49"
  }
 },
 "nbformat": 4,
 "nbformat_minor": 2
}